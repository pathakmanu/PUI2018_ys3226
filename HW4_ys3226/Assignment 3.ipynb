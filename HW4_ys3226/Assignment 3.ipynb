{
 "cells": [
  {
   "cell_type": "markdown",
   "metadata": {},
   "source": [
    "# IDEA"
   ]
  },
  {
   "cell_type": "markdown",
   "metadata": {},
   "source": [
    "## The new bus route for bus line X8 will make the average commute time(average travel time at peak hours) shorter."
   ]
  },
  {
   "cell_type": "markdown",
   "metadata": {},
   "source": [
    "### H0: The average commute time will be same or longer with the new bus route implementation."
   ]
  },
  {
   "cell_type": "markdown",
   "metadata": {},
   "source": [
    "#### H0: Tnew - Told >= 0"
   ]
  },
  {
   "cell_type": "markdown",
   "metadata": {},
   "source": [
    "### H1: The average commute time will be shorter with the new bus route implementation."
   ]
  },
  {
   "cell_type": "markdown",
   "metadata": {},
   "source": [
    "#### H1: Tnew - Told < 0"
   ]
  },
  {
   "cell_type": "markdown",
   "metadata": {},
   "source": [
    "### Decide a significance level of 5% (0.05)"
   ]
  },
  {
   "cell_type": "code",
   "execution_count": 1,
   "metadata": {},
   "outputs": [],
   "source": [
    "from __future__ import print_function #for compatibility beteen python2 and python3\n",
    "import os\n",
    "import pandas as pd\n",
    "import datetime as dt\n",
    "import matplotlib.pyplot as plt\n",
    "import numpy as np"
   ]
  },
  {
   "cell_type": "code",
   "execution_count": 2,
   "metadata": {
    "scrolled": true
   },
   "outputs": [
    {
     "name": "stdout",
     "output_type": "stream",
     "text": [
      "  % Total    % Received % Xferd  Average Speed   Time    Time     Time  Current\n",
      "                                 Dload  Upload   Total   Spent    Left  Speed\n",
      "100  1179  100  1179    0     0   9967      0 --:--:-- --:--:-- --:--:--  9991\n"
     ]
    }
   ],
   "source": [
    "!curl https://raw.githubusercontent.com/fedhere/PUI2018_fb55/master/Lab4_fb55/times.txt > busdata.txt"
   ]
  },
  {
   "cell_type": "code",
   "execution_count": 3,
   "metadata": {},
   "outputs": [
    {
     "name": "stdout",
     "output_type": "stream",
     "text": [
      "PUIDATA /nfshome/ys3226/PUIdata\n"
     ]
    }
   ],
   "source": [
    "# ove the downloaded data to PUI data\n",
    "print(\"PUIDATA\", os.getenv(\"PUIDATA\"))"
   ]
  },
  {
   "cell_type": "code",
   "execution_count": 4,
   "metadata": {},
   "outputs": [
    {
     "name": "stdout",
     "output_type": "stream",
     "text": [
      "PUIdata /nfshome/ys3226/PUIDATA\n"
     ]
    }
   ],
   "source": [
    "#create the env variable if missing\n",
    "os.environ[\"PUIDATA\"] = \"%s/PUIDATA\"%os.getenv(\"HOME\")\n",
    "\n",
    "print(\"PUIdata\", os.getenv(\"PUIDATA\"))"
   ]
  },
  {
   "cell_type": "code",
   "execution_count": 5,
   "metadata": {},
   "outputs": [],
   "source": [
    "# move the data\n",
    "!mv busdata.txt $PUIDATA"
   ]
  },
  {
   "cell_type": "code",
   "execution_count": 6,
   "metadata": {},
   "outputs": [
    {
     "name": "stdout",
     "output_type": "stream",
     "text": [
      "busdata.txt  citibike201807.csv  citibike201807.zip  citybike.zip\r\n"
     ]
    }
   ],
   "source": [
    "#test if the data is there\n",
    "!ls $PUIDATA"
   ]
  },
  {
   "cell_type": "code",
   "execution_count": 7,
   "metadata": {},
   "outputs": [],
   "source": [
    "busdata = pd.read_csv(\"%s/busdata.txt\"%os.getenv(\"PUIDATA\"), header=None)"
   ]
  },
  {
   "cell_type": "code",
   "execution_count": 8,
   "metadata": {
    "scrolled": true
   },
   "outputs": [
    {
     "data": {
      "text/html": [
       "<div>\n",
       "<table border=\"1\" class=\"dataframe\">\n",
       "  <thead>\n",
       "    <tr style=\"text-align: right;\">\n",
       "      <th></th>\n",
       "      <th>0</th>\n",
       "    </tr>\n",
       "  </thead>\n",
       "  <tbody>\n",
       "    <tr>\n",
       "      <th>0</th>\n",
       "      <td>31.622239</td>\n",
       "    </tr>\n",
       "    <tr>\n",
       "      <th>1</th>\n",
       "      <td>32.821376</td>\n",
       "    </tr>\n",
       "    <tr>\n",
       "      <th>2</th>\n",
       "      <td>30.229101</td>\n",
       "    </tr>\n",
       "    <tr>\n",
       "      <th>3</th>\n",
       "      <td>31.413766</td>\n",
       "    </tr>\n",
       "    <tr>\n",
       "      <th>4</th>\n",
       "      <td>39.010550</td>\n",
       "    </tr>\n",
       "  </tbody>\n",
       "</table>\n",
       "</div>"
      ],
      "text/plain": [
       "           0\n",
       "0  31.622239\n",
       "1  32.821376\n",
       "2  30.229101\n",
       "3  31.413766\n",
       "4  39.010550"
      ]
     },
     "execution_count": 8,
     "metadata": {},
     "output_type": "execute_result"
    }
   ],
   "source": [
    "busdata.head()"
   ]
  },
  {
   "cell_type": "code",
   "execution_count": 9,
   "metadata": {},
   "outputs": [
    {
     "name": "stdout",
     "output_type": "stream",
     "text": [
      "mean: 34.4661616883 std: 7.13728013375\n"
     ]
    }
   ],
   "source": [
    "print('mean:',busdata[0].mean(), 'std:',busdata[0].std())"
   ]
  },
  {
   "cell_type": "code",
   "execution_count": 13,
   "metadata": {},
   "outputs": [],
   "source": [
    "pop_mean = 36\n",
    "pop_std_dev = 6\n",
    "samp_mean = busdata[0].mean()\n",
    "N = busdata[0].count()"
   ]
  },
  {
   "cell_type": "code",
   "execution_count": 16,
   "metadata": {},
   "outputs": [
    {
     "name": "stdout",
     "output_type": "stream",
     "text": [
      "z_score: 2.55639718617\n"
     ]
    }
   ],
   "source": [
    "z_score = (pop_mean - samp_mean) / (pop_std_dev/ np.sqrt(N))\n",
    "print('z_score:', z_score)"
   ]
  },
  {
   "cell_type": "code",
   "execution_count": 18,
   "metadata": {},
   "outputs": [],
   "source": [
    "#5% significance threshold means 2 sigmas\n",
    "two_sigmas = 2"
   ]
  },
  {
   "cell_type": "code",
   "execution_count": 22,
   "metadata": {},
   "outputs": [
    {
     "name": "stdout",
     "output_type": "stream",
     "text": [
      "Reject Null Hypothesis - we are 2 sigmas away from the old mean\n",
      "So, the average commute time will be shorter with this new implementation\n"
     ]
    }
   ],
   "source": [
    "if z_score > two_sigmas:\n",
    "    print('Reject Null Hypothesis - we are 2 sigmas away from the old mean')\n",
    "    print('So, the average commute time will be shorter with this new implementation')\n",
    "else:\n",
    "    print('Null hypothesis is correct')\n",
    "    print('The average commute time will be same or longer with this new implementation')"
   ]
  }
 ],
 "metadata": {
  "kernelspec": {
   "display_name": "PUI2016_Python3",
   "language": "python",
   "name": "pui2016_python3"
  },
  "language_info": {
   "codemirror_mode": {
    "name": "ipython",
    "version": 3
   },
   "file_extension": ".py",
   "mimetype": "text/x-python",
   "name": "python",
   "nbconvert_exporter": "python",
   "pygments_lexer": "ipython3",
   "version": "3.5.4"
  }
 },
 "nbformat": 4,
 "nbformat_minor": 2
}
