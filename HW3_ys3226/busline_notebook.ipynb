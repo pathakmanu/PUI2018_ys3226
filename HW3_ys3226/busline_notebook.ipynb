{
 "cells": [
  {
   "cell_type": "code",
   "execution_count": 1,
   "metadata": {},
   "outputs": [],
   "source": [
    "from __future__ import print_function\n",
    "import json\n",
    "try:\n",
    "    import urllib2 as urllib\n",
    "except ImportError:\n",
    "    import urllib.request as urllib\n",
    "import os\n",
    "import sys"
   ]
  },
  {
   "cell_type": "code",
   "execution_count": 2,
   "metadata": {},
   "outputs": [],
   "source": [
    "key = sys.argv[1]\n",
    "busline = sys.argv[2]"
   ]
  },
  {
   "cell_type": "code",
   "execution_count": 79,
   "metadata": {},
   "outputs": [],
   "source": [
    "url = \"http://bustime.mta.info/api/siri/vehicle-monitoring.json?key=71ce0437-1c8a-4c16-beca-7848fa3630da&VehicleMonitoringDetailLevel=calls&LineRef=B42\""
   ]
  },
  {
   "cell_type": "code",
   "execution_count": 80,
   "metadata": {},
   "outputs": [],
   "source": [
    "response = urllib.urlopen(url)\n",
    "data = response.read().decode('utf-8')\n",
    "#use the json.loads method to obtain a dictionary representation of the responose string \n",
    "dataDict = json.loads(data)"
   ]
  },
  {
   "cell_type": "code",
   "execution_count": 81,
   "metadata": {},
   "outputs": [
    {
     "name": "stdout",
     "output_type": "stream",
     "text": [
      "B42\n"
     ]
    }
   ],
   "source": [
    "print(dataDict['Siri']['ServiceDelivery']['VehicleMonitoringDelivery'][0]['VehicleActivity'][0]['MonitoredVehicleJourney']['PublishedLineName'])"
   ]
  },
  {
   "cell_type": "code",
   "execution_count": 82,
   "metadata": {},
   "outputs": [
    {
     "name": "stdout",
     "output_type": "stream",
     "text": [
      "Bus Line : B42\n"
     ]
    }
   ],
   "source": [
    "print(\"Bus Line : \" + dataDict['Siri']['ServiceDelivery']['VehicleMonitoringDelivery'][0]['VehicleActivity'][0]['MonitoredVehicleJourney']['PublishedLineName'])"
   ]
  },
  {
   "cell_type": "code",
   "execution_count": 83,
   "metadata": {},
   "outputs": [
    {
     "name": "stdout",
     "output_type": "stream",
     "text": [
      "Number of Active Buses :  3\n"
     ]
    }
   ],
   "source": [
    "print(\"Number of Active Buses : \",len(dataDict['Siri']['ServiceDelivery']['VehicleMonitoringDelivery'][0]['VehicleActivity']))"
   ]
  },
  {
   "cell_type": "code",
   "execution_count": 84,
   "metadata": {},
   "outputs": [],
   "source": [
    "buses = dataDict['Siri']['ServiceDelivery']['VehicleMonitoringDelivery'][0]['VehicleActivity']"
   ]
  },
  {
   "cell_type": "code",
   "execution_count": 85,
   "metadata": {},
   "outputs": [
    {
     "data": {
      "text/plain": [
       "3"
      ]
     },
     "execution_count": 85,
     "metadata": {},
     "output_type": "execute_result"
    }
   ],
   "source": [
    "len(buses)"
   ]
  },
  {
   "cell_type": "code",
   "execution_count": 86,
   "metadata": {},
   "outputs": [
    {
     "name": "stdout",
     "output_type": "stream",
     "text": [
      "40.631476\n"
     ]
    }
   ],
   "source": [
    "print(buses[0]['MonitoredVehicleJourney']['VehicleLocation']['Latitude'])"
   ]
  },
  {
   "cell_type": "code",
   "execution_count": 87,
   "metadata": {},
   "outputs": [
    {
     "name": "stdout",
     "output_type": "stream",
     "text": [
      "Bus 0 is at latitude 40.631476 and longitude -73.887211\n",
      "Bus 1 is at latitude 40.631579 and longitude -73.887326\n",
      "Bus 2 is at latitude 40.643328 and longitude -73.900283\n"
     ]
    }
   ],
   "source": [
    "for i in range(len(buses)):\n",
    "    print(\"Bus\", i, \"is at latitude\", buses[i]['MonitoredVehicleJourney']['VehicleLocation']['Latitude'], \"and longitude\",\n",
    "         buses[i]['MonitoredVehicleJourney']['VehicleLocation']['Longitude'])"
   ]
  },
  {
   "cell_type": "markdown",
   "metadata": {},
   "source": [
    "### Assignment 4"
   ]
  },
  {
   "cell_type": "code",
   "execution_count": 88,
   "metadata": {},
   "outputs": [
    {
     "data": {
      "text/plain": [
       "{'OnwardCall': [{'ExpectedArrivalTime': '2018-09-26T14:47:05.555-04:00',\n",
       "   'Extensions': {'Distances': {'CallDistanceAlongRoute': 2083.72,\n",
       "     'DistanceFromCall': 319.38,\n",
       "     'PresentableDistance': '< 1 stop away',\n",
       "     'StopsFromCall': 0}},\n",
       "   'StopPointName': 'GLENWOOD RD (B42 - does not stop)',\n",
       "   'StopPointRef': 'MTA_940150'},\n",
       "  {'ExpectedArrivalTime': '2018-09-26T14:47:34.428-04:00',\n",
       "   'Extensions': {'Distances': {'CallDistanceAlongRoute': 2209.02,\n",
       "     'DistanceFromCall': 444.69,\n",
       "     'PresentableDistance': '1 stop away',\n",
       "     'StopsFromCall': 1}},\n",
       "   'StopPointName': 'ROCKAWAY PK STATION',\n",
       "   'StopPointRef': 'MTA_940151'}]}"
      ]
     },
     "execution_count": 88,
     "metadata": {},
     "output_type": "execute_result"
    }
   ],
   "source": [
    "buses[i]['MonitoredVehicleJourney']['OnwardCalls']"
   ]
  },
  {
   "cell_type": "code",
   "execution_count": 92,
   "metadata": {},
   "outputs": [
    {
     "ename": "KeyError",
     "evalue": "'OnwardCall'",
     "output_type": "error",
     "traceback": [
      "\u001b[0;31m---------------------------------------------------------------------------\u001b[0m",
      "\u001b[0;31mKeyError\u001b[0m                                  Traceback (most recent call last)",
      "\u001b[0;32m<ipython-input-92-93c548d73f4e>\u001b[0m in \u001b[0;36m<module>\u001b[0;34m()\u001b[0m\n\u001b[1;32m      2\u001b[0m     print(buses[i]['MonitoredVehicleJourney']['VehicleLocation']['Latitude'], \n\u001b[1;32m      3\u001b[0m          \u001b[0mbuses\u001b[0m\u001b[0;34m[\u001b[0m\u001b[0mi\u001b[0m\u001b[0;34m]\u001b[0m\u001b[0;34m[\u001b[0m\u001b[0;34m'MonitoredVehicleJourney'\u001b[0m\u001b[0;34m]\u001b[0m\u001b[0;34m[\u001b[0m\u001b[0;34m'VehicleLocation'\u001b[0m\u001b[0;34m]\u001b[0m\u001b[0;34m[\u001b[0m\u001b[0;34m'Longitude'\u001b[0m\u001b[0;34m]\u001b[0m\u001b[0;34m,\u001b[0m\u001b[0;34m\u001b[0m\u001b[0m\n\u001b[0;32m----> 4\u001b[0;31m          \u001b[0mbuses\u001b[0m\u001b[0;34m[\u001b[0m\u001b[0mi\u001b[0m\u001b[0;34m]\u001b[0m\u001b[0;34m[\u001b[0m\u001b[0;34m'MonitoredVehicleJourney'\u001b[0m\u001b[0;34m]\u001b[0m\u001b[0;34m[\u001b[0m\u001b[0;34m'OnwardCalls'\u001b[0m\u001b[0;34m]\u001b[0m\u001b[0;34m[\u001b[0m\u001b[0;34m'OnwardCall'\u001b[0m\u001b[0;34m]\u001b[0m\u001b[0;34m[\u001b[0m\u001b[0;36m0\u001b[0m\u001b[0;34m]\u001b[0m\u001b[0;34m[\u001b[0m\u001b[0;34m'StopPointName'\u001b[0m\u001b[0;34m]\u001b[0m\u001b[0;34m,\u001b[0m\u001b[0;34m\u001b[0m\u001b[0m\n\u001b[0m\u001b[1;32m      5\u001b[0m          buses[i]['MonitoredVehicleJourney']['OnwardCalls']['OnwardCall'][0]['Extensions']['Distances']['PresentableDistance'])\n",
      "\u001b[0;31mKeyError\u001b[0m: 'OnwardCall'"
     ]
    }
   ],
   "source": [
    "for i in range(len(buses)):\n",
    "    print(buses[i]['MonitoredVehicleJourney']['VehicleLocation']['Latitude'], \n",
    "         buses[i]['MonitoredVehicleJourney']['VehicleLocation']['Longitude'], \n",
    "         buses[i]['MonitoredVehicleJourney']['OnwardCalls']['OnwardCall'][0]['StopPointName'],\n",
    "         buses[i]['MonitoredVehicleJourney']['OnwardCalls']['OnwardCall'][0]['Extensions']['Distances']['PresentableDistance'])"
   ]
  },
  {
   "cell_type": "code",
   "execution_count": 93,
   "metadata": {},
   "outputs": [
    {
     "name": "stdout",
     "output_type": "stream",
     "text": [
      "40.631476 -73.887211 N/A N/A\n",
      "40.631579 -73.887326 ROCKAWAY PY/SCHENCK ST N/A\n",
      "40.643328 -73.900283 GLENWOOD RD (B42 - does not stop) N/A\n"
     ]
    }
   ],
   "source": [
    "for i in range(len(buses)):\n",
    "    Latitude = buses[i]['MonitoredVehicleJourney']['VehicleLocation']['Latitude']\n",
    "    Longitude = buses[i]['MonitoredVehicleJourney']['VehicleLocation']['Longitude']\n",
    "    try:\n",
    "        Stop_Name = buses[i]['MonitoredVehicleJourney']['OnwardCalls']['OnwardCall'][0]['StopPointName']\n",
    "    except KeyError:\n",
    "        Stop_Name = 'N/A'\n",
    "    try:\n",
    "        Statuts_Name = buses[i]['MonitoredVehicleJourney']['OnwardCalls']['OnwardCall'][0]['Extensions']['Distances']['PresentableDistance']\n",
    "    except KeyError:\n",
    "        Status_Name = 'N/A'\n",
    "    print(Latitude, Longitude, Stop_Name, Status_Name)"
   ]
  }
 ],
 "metadata": {
  "kernelspec": {
   "display_name": "PUI2016_Python3",
   "language": "python",
   "name": "pui2016_python3"
  },
  "language_info": {
   "codemirror_mode": {
    "name": "ipython",
    "version": 3
   },
   "file_extension": ".py",
   "mimetype": "text/x-python",
   "name": "python",
   "nbconvert_exporter": "python",
   "pygments_lexer": "ipython3",
   "version": "3.5.4"
  }
 },
 "nbformat": 4,
 "nbformat_minor": 2
}
